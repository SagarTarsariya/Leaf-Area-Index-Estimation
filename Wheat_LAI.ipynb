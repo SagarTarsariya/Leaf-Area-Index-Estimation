{
 "cells": [
  {
   "cell_type": "code",
   "execution_count": 2,
   "id": "0a539b1c",
   "metadata": {},
   "outputs": [],
   "source": [
    "import pandas as pd\n",
    "import numpy as np\n",
    "from sklearn.linear_model import LinearRegression\n",
    "from sklearn.model_selection import train_test_split\n",
    "from sklearn.metrics import mean_squared_error, r2_score\n",
    "from sklearn.metrics import mean_absolute_error\n",
    "import os\n",
    "import matplotlib.pyplot as plt\n",
    "import math\n",
    "from sklearn import model_selection\n",
    "from sklearn import ensemble\n",
    "from sklearn.ensemble import RandomForestRegressor\n",
    "from sklearn.metrics import r2_score\n",
    "from sklearn.ensemble import GradientBoostingRegressor\n",
    "from sklearn.svm import SVR\n",
    "from sklearn.neighbors import KNeighborsRegressor"
   ]
  },
  {
   "cell_type": "code",
   "execution_count": 3,
   "id": "721960f8",
   "metadata": {},
   "outputs": [],
   "source": [
    "os.chdir(r\"C:\\Users\\tarsa\\OneDrive\\Desktop\")"
   ]
  },
  {
   "cell_type": "code",
   "execution_count": 4,
   "id": "16324742",
   "metadata": {},
   "outputs": [],
   "source": [
    "# Load data from CSV file\n",
    "df = pd.read_csv('Final_VI_Wheat.csv')"
   ]
  },
  {
   "cell_type": "code",
   "execution_count": 5,
   "id": "c6f851fa",
   "metadata": {},
   "outputs": [
    {
     "data": {
      "text/html": [
       "<div>\n",
       "<style scoped>\n",
       "    .dataframe tbody tr th:only-of-type {\n",
       "        vertical-align: middle;\n",
       "    }\n",
       "\n",
       "    .dataframe tbody tr th {\n",
       "        vertical-align: top;\n",
       "    }\n",
       "\n",
       "    .dataframe thead th {\n",
       "        text-align: right;\n",
       "    }\n",
       "</style>\n",
       "<table border=\"1\" class=\"dataframe\">\n",
       "  <thead>\n",
       "    <tr style=\"text-align: right;\">\n",
       "      <th></th>\n",
       "      <th>LAI</th>\n",
       "      <th>NDVI</th>\n",
       "      <th>EVI</th>\n",
       "      <th>GNDVI</th>\n",
       "      <th>RENDVI</th>\n",
       "      <th>WDRVI</th>\n",
       "      <th>CI</th>\n",
       "      <th>NDRE</th>\n",
       "      <th>lai</th>\n",
       "    </tr>\n",
       "  </thead>\n",
       "  <tbody>\n",
       "    <tr>\n",
       "      <th>0</th>\n",
       "      <td>2.803</td>\n",
       "      <td>0.439913</td>\n",
       "      <td>0.896022</td>\n",
       "      <td>0.402128</td>\n",
       "      <td>0.281390</td>\n",
       "      <td>0.588149</td>\n",
       "      <td>1.570871</td>\n",
       "      <td>0.281390</td>\n",
       "      <td>9.183412</td>\n",
       "    </tr>\n",
       "    <tr>\n",
       "      <th>1</th>\n",
       "      <td>1.077</td>\n",
       "      <td>0.403238</td>\n",
       "      <td>1.011523</td>\n",
       "      <td>0.361257</td>\n",
       "      <td>0.253020</td>\n",
       "      <td>0.551281</td>\n",
       "      <td>1.351421</td>\n",
       "      <td>0.253020</td>\n",
       "      <td>8.389442</td>\n",
       "    </tr>\n",
       "    <tr>\n",
       "      <th>2</th>\n",
       "      <td>1.827</td>\n",
       "      <td>0.420006</td>\n",
       "      <td>0.953020</td>\n",
       "      <td>0.390221</td>\n",
       "      <td>0.258937</td>\n",
       "      <td>0.568336</td>\n",
       "      <td>1.448411</td>\n",
       "      <td>0.258937</td>\n",
       "      <td>8.740353</td>\n",
       "    </tr>\n",
       "    <tr>\n",
       "      <th>3</th>\n",
       "      <td>1.690</td>\n",
       "      <td>0.340048</td>\n",
       "      <td>0.702742</td>\n",
       "      <td>0.336817</td>\n",
       "      <td>0.206115</td>\n",
       "      <td>0.483695</td>\n",
       "      <td>1.030525</td>\n",
       "      <td>0.206115</td>\n",
       "      <td>7.228440</td>\n",
       "    </tr>\n",
       "    <tr>\n",
       "      <th>4</th>\n",
       "      <td>1.940</td>\n",
       "      <td>0.456259</td>\n",
       "      <td>1.037277</td>\n",
       "      <td>0.409730</td>\n",
       "      <td>0.304601</td>\n",
       "      <td>0.604064</td>\n",
       "      <td>1.678225</td>\n",
       "      <td>0.304601</td>\n",
       "      <td>9.571817</td>\n",
       "    </tr>\n",
       "  </tbody>\n",
       "</table>\n",
       "</div>"
      ],
      "text/plain": [
       "     LAI      NDVI       EVI     GNDVI    RENDVI     WDRVI        CI  \\\n",
       "0  2.803  0.439913  0.896022  0.402128  0.281390  0.588149  1.570871   \n",
       "1  1.077  0.403238  1.011523  0.361257  0.253020  0.551281  1.351421   \n",
       "2  1.827  0.420006  0.953020  0.390221  0.258937  0.568336  1.448411   \n",
       "3  1.690  0.340048  0.702742  0.336817  0.206115  0.483695  1.030525   \n",
       "4  1.940  0.456259  1.037277  0.409730  0.304601  0.604064  1.678225   \n",
       "\n",
       "       NDRE       lai  \n",
       "0  0.281390  9.183412  \n",
       "1  0.253020  8.389442  \n",
       "2  0.258937  8.740353  \n",
       "3  0.206115  7.228440  \n",
       "4  0.304601  9.571817  "
      ]
     },
     "execution_count": 5,
     "metadata": {},
     "output_type": "execute_result"
    }
   ],
   "source": [
    "df.head()"
   ]
  },
  {
   "cell_type": "markdown",
   "id": "bba914e0",
   "metadata": {},
   "source": [
    " "
   ]
  },
  {
   "cell_type": "markdown",
   "id": "0d8337b6",
   "metadata": {},
   "source": [
    "## LINEAR REGRESSION"
   ]
  },
  {
   "cell_type": "code",
   "execution_count": 37,
   "id": "3a1ffb25",
   "metadata": {},
   "outputs": [],
   "source": [
    "# Define the independent variables (vegetation indices and setelite LAI)\n",
    "X = df[['RENDVI']]\n",
    "\n",
    "# Define the dependent variable (ground LAI)\n",
    "y = df['lai']"
   ]
  },
  {
   "cell_type": "code",
   "execution_count": 38,
   "id": "f372691f",
   "metadata": {},
   "outputs": [],
   "source": [
    "# Split the data into training and testing sets\n",
    "X_train, X_test, y_train, y_test = train_test_split(X, y, test_size=0.2, random_state=42)\n"
   ]
  },
  {
   "cell_type": "code",
   "execution_count": 39,
   "id": "ffa7a149",
   "metadata": {},
   "outputs": [
    {
     "data": {
      "text/plain": [
       "LinearRegression()"
      ]
     },
     "execution_count": 39,
     "metadata": {},
     "output_type": "execute_result"
    }
   ],
   "source": [
    "# Create and fit the linear regression model\n",
    "model = LinearRegression()\n",
    "model.fit(X_train, y_train)\n"
   ]
  },
  {
   "cell_type": "code",
   "execution_count": 40,
   "id": "422ccf1f",
   "metadata": {},
   "outputs": [],
   "source": [
    "# Make predictions on the test set\n",
    "y_pred = model.predict(X_test)"
   ]
  },
  {
   "cell_type": "code",
   "execution_count": 41,
   "id": "63426baf",
   "metadata": {},
   "outputs": [
    {
     "name": "stdout",
     "output_type": "stream",
     "text": [
      "Mean squared error: 0.40\n",
      "R-squared: 0.89\n"
     ]
    }
   ],
   "source": [
    "\n",
    "# Evaluate the model using mean squared error and R-squared\n",
    "mse = mean_squared_error(y_test, y_pred)\n",
    "r2 = r2_score(y_test, y_pred)\n",
    "\n",
    "print(f'Mean squared error: {mse:.2f}')\n",
    "print(f'R-squared: {r2:.2f}')\n"
   ]
  },
  {
   "cell_type": "code",
   "execution_count": 42,
   "id": "0dd4c090",
   "metadata": {},
   "outputs": [
    {
     "name": "stdout",
     "output_type": "stream",
     "text": [
      "0.6356575495581354\n"
     ]
    }
   ],
   "source": [
    "rmse = math.sqrt(mean_squared_error(y_test, y_pred))\n",
    "print(rmse)"
   ]
  },
  {
   "cell_type": "markdown",
   "id": "38e3a7c8",
   "metadata": {},
   "source": [
    "## Random Forest Regressior"
   ]
  },
  {
   "cell_type": "code",
   "execution_count": 87,
   "id": "2c9d8318",
   "metadata": {},
   "outputs": [],
   "source": [
    "\n",
    "# Define the independent variables (vegetation indices and setelite LAI)\n",
    "X = df[['RENDVI']]\n",
    "\n",
    "# Define the dependent variable (ground LAI)\n",
    "y = df['lai']"
   ]
  },
  {
   "cell_type": "code",
   "execution_count": 88,
   "id": "190f3e3d",
   "metadata": {},
   "outputs": [],
   "source": [
    "# Split the data into training and testing sets\n",
    "X_train, X_test, y_train, y_test = train_test_split(X, y, test_size=0.2, random_state=42)"
   ]
  },
  {
   "cell_type": "code",
   "execution_count": 89,
   "id": "c05e67f4",
   "metadata": {},
   "outputs": [
    {
     "data": {
      "text/plain": [
       "RandomForestRegressor(random_state=42)"
      ]
     },
     "execution_count": 89,
     "metadata": {},
     "output_type": "execute_result"
    }
   ],
   "source": [
    "# Create and fit the random forest regressor model\n",
    "model = RandomForestRegressor(n_estimators=100, random_state=42)\n",
    "model.fit(X_train, y_train)"
   ]
  },
  {
   "cell_type": "code",
   "execution_count": 90,
   "id": "6f89b0f7",
   "metadata": {},
   "outputs": [],
   "source": [
    "# Make predictions on the test set\n",
    "y_pred = model.predict(X_test)"
   ]
  },
  {
   "cell_type": "code",
   "execution_count": 91,
   "id": "05425afc",
   "metadata": {},
   "outputs": [
    {
     "name": "stdout",
     "output_type": "stream",
     "text": [
      "Mean squared error: 0.55\n",
      "R-squared: 0.85\n"
     ]
    }
   ],
   "source": [
    "\n",
    "# Evaluate the model using mean squared error and R-squared\n",
    "mse = mean_squared_error(y_test, y_pred)\n",
    "r2 = r2_score(y_test, y_pred)\n",
    "\n",
    "print(f'Mean squared error: {mse:.2f}')\n",
    "print(f'R-squared: {r2:.2f}')\n"
   ]
  },
  {
   "cell_type": "code",
   "execution_count": 92,
   "id": "ac59d0d6",
   "metadata": {},
   "outputs": [
    {
     "name": "stdout",
     "output_type": "stream",
     "text": [
      "0.7412225197211468\n"
     ]
    }
   ],
   "source": [
    "rmse = math.sqrt(mean_squared_error(y_test, y_pred))\n",
    "print(rmse)"
   ]
  },
  {
   "cell_type": "markdown",
   "id": "4992f90e",
   "metadata": {},
   "source": [
    "## Gradient Boosting Regressor"
   ]
  },
  {
   "cell_type": "code",
   "execution_count": 93,
   "id": "a992209f",
   "metadata": {},
   "outputs": [],
   "source": [
    "\n",
    "# Define the independent variables (vegetation indices)\n",
    "X = df[['NDVI']]\n",
    "\n",
    "# Define the dependent variable (ground LAI)\n",
    "y = df['lai']"
   ]
  },
  {
   "cell_type": "code",
   "execution_count": 94,
   "id": "d020335d",
   "metadata": {},
   "outputs": [],
   "source": [
    "# Split the data into training and testing sets\n",
    "X_train, X_test, y_train, y_test = train_test_split(X, y, test_size=0.2, random_state=42)\n"
   ]
  },
  {
   "cell_type": "code",
   "execution_count": 95,
   "id": "c89944e1",
   "metadata": {},
   "outputs": [],
   "source": [
    "# Create a Gradient Boosting Regressor model\n",
    "model = GradientBoostingRegressor(n_estimators=100, learning_rate=0.1, max_depth=3, random_state=42)\n"
   ]
  },
  {
   "cell_type": "code",
   "execution_count": 96,
   "id": "3d21432c",
   "metadata": {},
   "outputs": [
    {
     "data": {
      "text/plain": [
       "GradientBoostingRegressor(random_state=42)"
      ]
     },
     "execution_count": 96,
     "metadata": {},
     "output_type": "execute_result"
    }
   ],
   "source": [
    "# Fit the model to the training data\n",
    "model.fit(X_train, y_train)\n"
   ]
  },
  {
   "cell_type": "code",
   "execution_count": 97,
   "id": "256598cc",
   "metadata": {},
   "outputs": [],
   "source": [
    "# Predict LAI for the test data\n",
    "y_pred = model.predict(X_test)\n"
   ]
  },
  {
   "cell_type": "code",
   "execution_count": 98,
   "id": "b56c978e",
   "metadata": {},
   "outputs": [
    {
     "name": "stdout",
     "output_type": "stream",
     "text": [
      "Mean squared error: 0.55\n",
      "R-squared: 0.85\n"
     ]
    }
   ],
   "source": [
    "# Calculate the R-squared value of the model\n",
    "print(f'Mean squared error: {mse:.2f}')\n",
    "print(f'R-squared: {r2:.2f}')"
   ]
  },
  {
   "cell_type": "code",
   "execution_count": 99,
   "id": "3a000bc0",
   "metadata": {},
   "outputs": [
    {
     "name": "stdout",
     "output_type": "stream",
     "text": [
      "0.1210718512006825\n"
     ]
    }
   ],
   "source": [
    "rmse = math.sqrt(mean_squared_error(y_test, y_pred))\n",
    "print(rmse)"
   ]
  },
  {
   "cell_type": "markdown",
   "id": "4d70b1e5",
   "metadata": {},
   "source": [
    "## Support Vector Machine Regressor"
   ]
  },
  {
   "cell_type": "code",
   "execution_count": 139,
   "id": "688edce1",
   "metadata": {},
   "outputs": [],
   "source": [
    "\n",
    "# Define the independent variables (vegetation indices and setelite LAI)\n",
    "X = df[['EVI']]\n",
    "\n",
    "# Define the dependent variable (ground LAI)\n",
    "y = df['lai']"
   ]
  },
  {
   "cell_type": "code",
   "execution_count": 140,
   "id": "ae4f9f1b",
   "metadata": {},
   "outputs": [],
   "source": [
    "# Split the data into training and testing sets\n",
    "X_train, X_test, y_train, y_test = train_test_split(X, y, test_size=0.2, random_state=42)\n"
   ]
  },
  {
   "cell_type": "code",
   "execution_count": 141,
   "id": "3b6aec1e",
   "metadata": {},
   "outputs": [
    {
     "data": {
      "text/plain": [
       "SVR(kernel='linear')"
      ]
     },
     "execution_count": 141,
     "metadata": {},
     "output_type": "execute_result"
    }
   ],
   "source": [
    "# Create and fit the support vector machine regressor model\n",
    "model = SVR(kernel='linear')\n",
    "model.fit(X_train, y_train)"
   ]
  },
  {
   "cell_type": "code",
   "execution_count": 142,
   "id": "78b84fe2",
   "metadata": {},
   "outputs": [],
   "source": [
    "# Make predictions on the test set\n",
    "y_pred = model.predict(X_test)\n"
   ]
  },
  {
   "cell_type": "code",
   "execution_count": 143,
   "id": "34eceb29",
   "metadata": {},
   "outputs": [
    {
     "name": "stdout",
     "output_type": "stream",
     "text": [
      "Mean squared error: 0.55\n",
      "R-squared: 0.85\n"
     ]
    }
   ],
   "source": [
    "# Evaluate the model using mean squared error and R-squared\n",
    "mse = mean_squared_error(y_test, y_pred)\n",
    "r2 = r2_score(y_test, y_pred)\n",
    "\n",
    "print(f'Mean squared error: {mse:.2f}')\n",
    "print(f'R-squared: {r2:.2f}')"
   ]
  },
  {
   "cell_type": "code",
   "execution_count": 144,
   "id": "4a82023e",
   "metadata": {},
   "outputs": [
    {
     "name": "stdout",
     "output_type": "stream",
     "text": [
      "0.7436746751486412\n"
     ]
    }
   ],
   "source": [
    "rmse = math.sqrt(mean_squared_error(y_test, y_pred))\n",
    "print(rmse)"
   ]
  },
  {
   "cell_type": "markdown",
   "id": "486c69cf",
   "metadata": {},
   "source": [
    "## KNeighborsRegressor"
   ]
  },
  {
   "cell_type": "code",
   "execution_count": 145,
   "id": "d3168b3d",
   "metadata": {},
   "outputs": [],
   "source": [
    "# Split the data into training and testing sets\n",
    "X = df[['RENDVI']]\n",
    "y = df['lai']"
   ]
  },
  {
   "cell_type": "code",
   "execution_count": 146,
   "id": "68b53df4",
   "metadata": {},
   "outputs": [],
   "source": [
    "# Split the data into training and testing sets\n",
    "X_train, X_test, y_train, y_test = train_test_split(X, y, test_size=0.2, random_state=42)"
   ]
  },
  {
   "cell_type": "code",
   "execution_count": 147,
   "id": "12eb3669",
   "metadata": {},
   "outputs": [],
   "source": [
    "# Create a KNN regressor object\n",
    "knn_reg = KNeighborsRegressor(n_neighbors=5)\n"
   ]
  },
  {
   "cell_type": "code",
   "execution_count": 148,
   "id": "e2985fa7",
   "metadata": {},
   "outputs": [
    {
     "data": {
      "text/plain": [
       "KNeighborsRegressor()"
      ]
     },
     "execution_count": 148,
     "metadata": {},
     "output_type": "execute_result"
    }
   ],
   "source": [
    "# Fit the model on training data\n",
    "knn_reg.fit(X_train, y_train)"
   ]
  },
  {
   "cell_type": "code",
   "execution_count": 149,
   "id": "5a49ad89",
   "metadata": {},
   "outputs": [],
   "source": [
    "# Predict the LAI values using the model\n",
    "y_pred = knn_reg.predict(X_test)\n"
   ]
  },
  {
   "cell_type": "code",
   "execution_count": 150,
   "id": "b93d6a49",
   "metadata": {},
   "outputs": [
    {
     "name": "stdout",
     "output_type": "stream",
     "text": [
      "Mean squared error: 0.32\n",
      "R-squared: 0.91\n"
     ]
    }
   ],
   "source": [
    "# Evaluate the model performance\n",
    "r2 = r2_score(y_test, y_pred)\n",
    "mse = mean_squared_error(y_test, y_pred)\n",
    "\n",
    "print(f'Mean squared error: {mse:.2f}')\n",
    "print(f'R-squared: {r2:.2f}')"
   ]
  },
  {
   "cell_type": "code",
   "execution_count": 151,
   "id": "d75ee054",
   "metadata": {},
   "outputs": [
    {
     "name": "stdout",
     "output_type": "stream",
     "text": [
      "0.5638614253448689\n"
     ]
    }
   ],
   "source": [
    "rmse = math.sqrt(mean_squared_error(y_test, y_pred))\n",
    "print(rmse)"
   ]
  },
  {
   "cell_type": "markdown",
   "id": "dd0b9222",
   "metadata": {},
   "source": [
    " "
   ]
  },
  {
   "cell_type": "markdown",
   "id": "073670d0",
   "metadata": {},
   "source": [
    "### Relationship of ground data of LAI with all Vegetation Indices"
   ]
  },
  {
   "cell_type": "markdown",
   "id": "3399b6ca",
   "metadata": {},
   "source": [
    " "
   ]
  },
  {
   "cell_type": "code",
   "execution_count": 152,
   "id": "f7a4001a",
   "metadata": {},
   "outputs": [
    {
     "data": {
      "image/png": "[encoded data removed]",
      "text/plain": [
       "<Figure size 640x480 with 1 Axes>"
      ]
     },
     "metadata": {},
     "output_type": "display_data"
    }
   ],
   "source": [
    "# Define the independent variables (vegetation indices)\n",
    "X = df[['NDVI', 'EVI', 'GNDVI', 'RENDVI', 'WDRVI', 'CI', 'NDRE']]\n",
    "\n",
    "# Define the dependent variable (ground LAI)\n",
    "y = df['LAI']\n",
    "\n",
    "# Create a scatter plot with all vegetation indices\n",
    "fig, ax = plt.subplots()\n",
    "for col in X.columns:\n",
    "    ax.scatter(X[col], y, label=col)\n",
    "ax.set_xlabel('Vegetation indices')\n",
    "ax.set_ylabel('LAI')\n",
    "ax.set_title('Vegetation indices vs Ground LAI')\n",
    "ax.legend(loc = 'upper right')\n",
    "plt.show()\n"
   ]
  },
  {
   "cell_type": "markdown",
   "id": "914ff7cb",
   "metadata": {},
   "source": [
    " "
   ]
  },
  {
   "cell_type": "markdown",
   "id": "26468ffd",
   "metadata": {},
   "source": [
    "### Relationship of Satellite LAI with all Vegetation Indices"
   ]
  },
  {
   "cell_type": "markdown",
   "id": "55a44117",
   "metadata": {},
   "source": [
    " "
   ]
  },
  {
   "cell_type": "code",
   "execution_count": 153,
   "id": "f9a66fea",
   "metadata": {},
   "outputs": [
    {
     "data": {
      "image/png": "[encoded data removed]",
      "text/plain": [
       "<Figure size 640x480 with 1 Axes>"
      ]
     },
     "metadata": {},
     "output_type": "display_data"
    }
   ],
   "source": [
    "# Define the independent variables (vegetation indices)\n",
    "X = df[['NDVI', 'EVI', 'GNDVI', 'RENDVI', 'WDRVI', 'CI', 'NDRE']]\n",
    "\n",
    "# Define the dependent variable (ground LAI)\n",
    "y = df['lai']\n",
    "\n",
    "# Create a scatter plot with all vegetation indices\n",
    "fig, ax = plt.subplots()\n",
    "for col in X.columns:\n",
    "    ax.scatter(X[col], y, label=col)\n",
    "ax.set_xlabel('Vegetation indices')\n",
    "ax.set_ylabel('lai')\n",
    "ax.set_title('Vegetation indices vs Sentinel-2 lai')\n",
    "ax.legend()\n",
    "plt.show()\n"
   ]
  },
  {
   "cell_type": "markdown",
   "id": "1050c61f",
   "metadata": {},
   "source": [
    " "
   ]
  },
  {
   "cell_type": "markdown",
   "id": "7a5bbfb5",
   "metadata": {},
   "source": [
    "### To check all models accuracy"
   ]
  },
  {
   "cell_type": "markdown",
   "id": "7cc2a171",
   "metadata": {},
   "source": [
    " "
   ]
  },
  {
   "cell_type": "code",
   "execution_count": 25,
   "id": "da20e712",
   "metadata": {},
   "outputs": [],
   "source": [
    "# Define the independent variables (vegetation indices)\n",
    "X = df[['NDVI', 'EVI', 'GNDVI', 'RENDVI', 'WDRVI', 'CI', 'NDRE']]\n",
    "\n",
    "# Define the dependent variable (ground LAI)\n",
    "y = df['lai']\n",
    "# Split the data into training and testing sets\n",
    "X_train, X_test, y_train, y_test = train_test_split(X, y, test_size=0.2, random_state=42)"
   ]
  },
  {
   "cell_type": "code",
   "execution_count": 23,
   "id": "48fccefd",
   "metadata": {},
   "outputs": [
    {
     "name": "stderr",
     "output_type": "stream",
     "text": [
      " 76%|███████▌  | 32/42 [00:01<00:00, 32.87it/s]"
     ]
    },
    {
     "name": "stdout",
     "output_type": "stream",
     "text": [
      "OrthogonalMatchingPursuitCV model failed to execute\n",
      "Found array with 1 feature(s) (shape=(60, 1)) while a minimum of 2 is required by OrthogonalMatchingPursuitCV.\n"
     ]
    },
    {
     "name": "stderr",
     "output_type": "stream",
     "text": [
      "100%|██████████| 42/42 [00:01<00:00, 26.75it/s]\n"
     ]
    }
   ],
   "source": [
    "from lazypredict.Supervised import LazyRegressor\n",
    "from sklearn.utils import shuffle\n",
    "reg = LazyRegressor(verbose=0, ignore_warnings=False, custom_metric=None)\n",
    "models, predictions = reg.fit(X_train, X_test, y_train, y_test)"
   ]
  },
  {
   "cell_type": "code",
   "execution_count": 24,
   "id": "28b050e4",
   "metadata": {},
   "outputs": [
    {
     "name": "stdout",
     "output_type": "stream",
     "text": [
      "                               Adjusted R-Squared  R-Squared  RMSE  Time Taken\n",
      "Model                                                                         \n",
      "PoissonRegressor                             0.92       0.93  0.52        0.01\n",
      "KNeighborsRegressor                          0.90       0.91  0.58        0.01\n",
      "ExtraTreeRegressor                           0.87       0.87  0.68        0.02\n",
      "NuSVR                                        0.86       0.87  0.69        0.01\n",
      "HuberRegressor                               0.86       0.87  0.69        0.03\n",
      "ExtraTreesRegressor                          0.86       0.87  0.70        0.14\n",
      "SVR                                          0.85       0.86  0.71        0.01\n",
      "ElasticNetCV                                 0.85       0.86  0.71        0.08\n",
      "RANSACRegressor                              0.85       0.86  0.72        0.02\n",
      "LassoCV                                      0.85       0.86  0.72        0.08\n",
      "Ridge                                        0.85       0.86  0.73        0.01\n",
      "RidgeCV                                      0.85       0.86  0.73        0.01\n",
      "AdaBoostRegressor                            0.84       0.86  0.73        0.08\n",
      "BayesianRidge                                0.84       0.85  0.74        0.02\n",
      "TransformedTargetRegressor                   0.83       0.85  0.75        0.01\n",
      "LinearRegression                             0.83       0.85  0.75        0.01\n",
      "Lars                                         0.83       0.85  0.75        0.02\n",
      "LarsCV                                       0.83       0.85  0.75        0.02\n",
      "LassoLarsCV                                  0.83       0.85  0.75        0.02\n",
      "LassoLarsIC                                  0.83       0.85  0.75        0.01\n",
      "OrthogonalMatchingPursuit                    0.83       0.85  0.75        0.01\n",
      "RandomForestRegressor                        0.83       0.84  0.75        0.22\n",
      "SGDRegressor                                 0.82       0.83  0.78        0.01\n",
      "LinearSVR                                    0.81       0.82  0.81        0.01\n",
      "BaggingRegressor                             0.80       0.81  0.83        0.04\n",
      "TweedieRegressor                             0.76       0.78  0.90        0.01\n",
      "HistGradientBoostingRegressor                0.76       0.77  0.91        0.14\n",
      "GammaRegressor                               0.75       0.76  0.93        0.01\n",
      "GradientBoostingRegressor                    0.75       0.76  0.93        0.05\n",
      "LGBMRegressor                                0.73       0.75  0.96        0.04\n",
      "ElasticNet                                   0.72       0.74  0.97        0.01\n",
      "XGBRegressor                                 0.69       0.71  1.03        0.07\n",
      "DecisionTreeRegressor                        0.69       0.71  1.03        0.02\n",
      "Lasso                                        0.63       0.66  1.12        0.02\n",
      "QuantileRegressor                           -0.08      -0.00  1.92        0.05\n",
      "DummyRegressor                              -0.10      -0.02  1.93        0.01\n",
      "LassoLars                                   -0.10      -0.02  1.93        0.01\n",
      "PassiveAggressiveRegressor                  -0.31      -0.22  2.11        0.01\n",
      "MLPRegressor                                -3.01      -2.72  3.69        0.13\n",
      "KernelRidge                                -22.43     -20.75  8.93        0.01\n",
      "GaussianProcessRegressor                   -49.17     -45.58 13.07        0.02\n"
     ]
    }
   ],
   "source": [
    "print(models)"
   ]
  },
  {
   "cell_type": "markdown",
   "id": "ff0f4fab",
   "metadata": {},
   "source": [
    " "
   ]
  },
  {
   "cell_type": "markdown",
   "id": "cd81680e",
   "metadata": {},
   "source": [
    "## y = mx + c"
   ]
  },
  {
   "cell_type": "markdown",
   "id": "5dc60289",
   "metadata": {},
   "source": [
    " "
   ]
  },
  {
   "cell_type": "code",
   "execution_count": 132,
   "id": "6868b9c6",
   "metadata": {},
   "outputs": [
    {
     "name": "stdout",
     "output_type": "stream",
     "text": [
      "y = 5.17RENDVI + 0.34\n"
     ]
    }
   ],
   "source": [
    "import pandas as pd\n",
    "from sklearn.linear_model import LinearRegression\n",
    "\n",
    "# Define X and y\n",
    "X = df[['RENDVI']]\n",
    "y = df['LAI']\n",
    "\n",
    "# Train linear regression model\n",
    "model = LinearRegression().fit(X, y)\n",
    "\n",
    "# Extract slope and intercept\n",
    "slope = model.coef_\n",
    "intercept = model.intercept_\n",
    "\n",
    "# Generate equation in the form of y=mx+c\n",
    "equation = 'y = '\n",
    "for i, variable in enumerate(X.columns):\n",
    "    equation += f'{round(slope[i], 2)}{variable} + '\n",
    "equation += f'{round(intercept, 2)}'\n",
    "\n",
    "print(equation)\n"
   ]
  },
  {
   "cell_type": "code",
   "execution_count": null,
   "id": "abdca80d",
   "metadata": {},
   "outputs": [],
   "source": []
  }
 ],
 "metadata": {
  "kernelspec": {
   "display_name": "Python 3 (ipykernel)",
   "language": "python",
   "name": "python3"
  },
  "language_info": {
   "codemirror_mode": {
    "name": "ipython",
    "version": 3
   },
   "file_extension": ".py",
   "mimetype": "text/x-python",
   "name": "python",
   "nbconvert_exporter": "python",
   "pygments_lexer": "ipython3",
   "version": "3.9.13"
  }
 },
 "nbformat": 4,
 "nbformat_minor": 5
}
